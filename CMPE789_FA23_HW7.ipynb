{
  "cells": [
    {
      "cell_type": "markdown",
      "metadata": {
        "id": "THT2Uwrv_654"
      },
      "source": [
        "#**Corner Detection and Feature Matching**"
      ]
    },
    {
      "cell_type": "markdown",
      "metadata": {
        "id": "JTOA0A85AAQh"
      },
      "source": [
        "# Introduction"
      ]
    },
    {
      "cell_type": "markdown",
      "metadata": {
        "id": "XdjXRBw6sAY9"
      },
      "source": [
        "In this homework, you will practise corner detection and feature matching with opencv. In this link, [feature matching](https://drive.google.com/drive/folders/1WYP68d5pKTTZdXxa1mZZuPcY22iaILz2?usp=sharing) , there are 11 pictures I took around campus, one target image, 10 references. Your task is as follows:\n",
        "1. Find out keypoints in each image using Harris Corner Detection or Shi-Tomasi Detection\n",
        "2. Build descriptors using SIFT or ORB\n",
        "3. Match keypoints in two images using Euclidean distance or other metrics\n",
        "4. Find out the reference image that matches the target best (also based on distance or other metrics)\n",
        "\n",
        "Hints:\n",
        "\n",
        "Because the images are high resolution images, corner detection could possibly output tons of points. You need to specify a certain number of corner points you need, for the best performance of your feature matching algorithm. Or you can take your own pictures, one target, and at least 10 references.\n",
        "\n",
        "Rubric:\n",
        "\n",
        "Find correct key points with corner detection algo: 40pts\n",
        "\n",
        "Build descriptors for the key points from corner detection algo: 40 pts\n",
        "\n",
        "Perform feature matching: 20 pts\n"
      ]
    },
    {
      "cell_type": "code",
      "execution_count": null,
      "metadata": {
        "id": "KU_qVIAGjT5t"
      },
      "outputs": [],
      "source": [
        "from google.colab.patches import cv2_imshow\n",
        "import cv2\n",
        "import numpy as np\n",
        "import matplotlib.pyplot as plt\n",
        "%matplotlib inline"
      ]
    },
    {
      "cell_type": "markdown",
      "metadata": {
        "id": "MpJFGPoeoldp"
      },
      "source": [
        "images location:\n",
        "[feature matching](https://drive.google.com/drive/folders/1WYP68d5pKTTZdXxa1mZZuPcY22iaILz2?usp=sharing)\n",
        "\n",
        "To make this easier, I added two commands below to download the zip file and unzip the images right in the /content folder"
      ]
    },
    {
      "cell_type": "code",
      "execution_count": null,
      "metadata": {
        "id": "72lBmrZXnJRR"
      },
      "outputs": [],
      "source": [
        "!gdown 1LoHRj44aOawe5zRnE13HQ7bt2lQXpDHv\n",
        "!unzip data.zip"
      ]
    },
    {
      "cell_type": "markdown",
      "metadata": {
        "id": "xq5kp2v3YNHq"
      },
      "source": [
        "# Corner Detection"
      ]
    },
    {
      "cell_type": "markdown",
      "metadata": {
        "id": "baCm1VxUYW9D"
      },
      "source": [
        "Harris Corner Dection document: https://docs.opencv.org/3.4/dc/d0d/tutorial_py_features_harris.html\n"
      ]
    },
    {
      "cell_type": "markdown",
      "metadata": {
        "id": "VpnVlg_7X9RQ"
      },
      "source": [
        "# Feature Matching"
      ]
    },
    {
      "cell_type": "markdown",
      "metadata": {
        "id": "HOnD0m5yal8u"
      },
      "source": [
        "ORB/SIFT/FLANN feature matching document: https://docs.opencv.org/4.x/dc/dc3/tutorial_py_matcher.html"
      ]
    },
    {
      "cell_type": "markdown",
      "metadata": {
        "id": "oy1UKN4qC1w6"
      },
      "source": [
        "# Output Example"
      ]
    },
    {
      "cell_type": "markdown",
      "metadata": {
        "id": "iwxN_p8WC59v"
      },
      "source": [
        "You can try different corner detection and feature matching algorithms. Here's a simple example of Harris Corner Detection and Flann matching output:\n",
        "\n",
        "Corner Detection:\n",
        "\n",
        "<img src=\"https://drive.google.com/uc?export=view&id=1_lxN5962rkummApSF3GyPnEyXZKmc-jA\" width=600>\n",
        "\n",
        "\n",
        "Feature Matching:\n",
        "\n",
        "<img src=\"https://drive.google.com/uc?export=view&id=1FoqX3JlU9B7xup19S_-w554bb_MsE28t\" width=600>\n",
        "\n",
        "<img src=\"https://drive.google.com/uc?export=view&id=1q3cYnMHQFxnVbzxpRMSEy43A7pG69qYm\" width=600>\n"
      ]
    }
  ],
  "metadata": {
    "colab": {
      "provenance": []
    },
    "kernelspec": {
      "display_name": "Python 3",
      "name": "python3"
    },
    "language_info": {
      "name": "python"
    }
  },
  "nbformat": 4,
  "nbformat_minor": 0
}
